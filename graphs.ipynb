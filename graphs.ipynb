{
  "nbformat": 4,
  "nbformat_minor": 0,
  "metadata": {
    "colab": {
      "provenance": [],
      "authorship_tag": "ABX9TyNWGiPklrq65eMwH8iDk/OY",
      "include_colab_link": true
    },
    "kernelspec": {
      "name": "python3",
      "display_name": "Python 3"
    },
    "language_info": {
      "name": "python"
    }
  },
  "cells": [
    {
      "cell_type": "markdown",
      "metadata": {
        "id": "view-in-github",
        "colab_type": "text"
      },
      "source": [
        "<a href=\"https://colab.research.google.com/github/bruckmann/dataStructure/blob/main/graphs.ipynb\" target=\"_parent\"><img src=\"https://colab.research.google.com/assets/colab-badge.svg\" alt=\"Open In Colab\"/></a>"
      ]
    },
    {
      "cell_type": "markdown",
      "source": [
        "# Graph Theory\n",
        "\n",
        "Graph theory is the mathematical theory of the properties and applications of graphs (networks)\n",
        "\n",
        "A graph can be used to represent almost any problem, because they pop-up everywhere.\n",
        "\n",
        "## Types of graphs\n",
        "\n",
        "- Undirected Graph\n",
        " - An undirected graph is a graph in which edges have no orientation. The edge (u, v) is identical to the edge (v, u)\n",
        "\n",
        "- Directed Graphs\n",
        "  - A directed graph or digraph is a graph in which edges gave orientations. For example, the edge (u, v) is the edge from node u to node v.\n",
        "\n",
        "- Weighted Graphs\n",
        "  - Many graphs can have edges that contain a certain weight to represent an arbitrary value such as cost, distance, quantity, etc…\n",
        "\n",
        "\n",
        "We also have some special types of graphs. Trees is an example of special type of graph. A tree is an undirected graph with no cycles. Equivalently, it is a connected graph with N nodes and N-1 edges.\n",
        "\n",
        "---\n",
        "\n",
        "\\\n",
        "\n",
        "## Representing Graphs\n",
        "\n",
        "### Adjacency matrix\n",
        "\n",
        "The simplest way to represent a graph in Computer Science is using an Adjacency Matrix. The idea is the cell m[I][j] represents the edge weight of going from node I to j\n",
        "\n",
        "\n",
        "$$\n",
        "\\begin{array}{c|ccc}\n",
        " & \\text{A} & \\text{B} & \\text{C} \\\\\n",
        "\\hline\n",
        "\\text{A} & 0 & 2 & 3 \\\\\n",
        "\\text{B} & 4 & 0 & 6 \\\\\n",
        "\\text{C} & 7 & 8 & 0 \\\\\n",
        "\\end{array}\n",
        "$$\n",
        "\n",
        "Pros\n",
        "\n",
        "- Space efficient for representing dense graphs\n",
        "- Edge weight lookup is O(1)\n",
        "- Simplest graph representation\n",
        "\n",
        "Cons\n",
        "\n",
        "- Requires O(V^2) space\n",
        "-  Iterating through all edges takes O(V^2) time\n",
        "\n",
        "### Adjacency List\n",
        "\n",
        "An Adjacency list is a way to represent a graph as a map from nodes to list of edges\n",
        "\n",
        "For example, if we have a graph with 2 nodes (a, b) we can have two lists:\n",
        "\n",
        "\\\n",
        "\\begin{array}{l|l}\n",
        "\\text{Vertex} & \\text{Adjacent Vertices (Weight)} \\\\\n",
        "\\hline\n",
        "\\text{A} & \\text{(B, 4)} \\\\\n",
        "\\text{B} & \\text{(A, 6)} \\\\\n",
        "\\end{array}\n",
        "\n",
        "or as code:\n",
        "\n",
        "```python\n",
        "A = [(B,4)]\n",
        "B = [(A,3)]\n",
        "\n",
        "```\n",
        "\n",
        "Pros\n",
        "\n",
        "- Space efficient for representing sparse  graphs\n",
        "- Iterating over all edges is efficient\n",
        "\n",
        "\n",
        "Cons\n",
        "\n",
        "- Less space efficient for denser graphs\n",
        "- Edge weight lookup is O(E)\n",
        "- Slightly more complex graph representation\n",
        "\n",
        "\n",
        "### Edge List\n",
        "An edge list is a way to represent a graph simply as an unordered list of edges. Assume the notation for any triplet (a, b, c) means:\n",
        "\n",
        "The cost from node a to b is c\n",
        "\n",
        "\\\n",
        "\\begin{array}{lll}\n",
        "\\text{Vertex 1} & \\text{Vertex 2} & \\text{Weight} \\\\\n",
        "\\hline\n",
        "\\text{A} & \\text{B} & 4 \\\\\n",
        "\\text{B} & \\text{A} & 6 \\\\\n",
        "\\end{array}\n",
        "\n",
        "or as code:\n",
        "\n",
        "```python\n",
        "EDGE_LIST = [(a, b, 4), (b, a, 5)]\n",
        "```\n",
        "\n",
        "Pros\n",
        "\n",
        "- Space efficient for representing sparse  graphs\n",
        "- Iterating over all edges is efficient\n",
        "- Very simple structure\n",
        "\n",
        "\n",
        "Cons\n",
        "\n",
        "- Less space efficient for denser graphs\n",
        "- Edge weight lookup is O(E)\n",
        "\n",
        "\n"
      ],
      "metadata": {
        "id": "NMsYU1IHP_Eo"
      }
    },
    {
      "cell_type": "markdown",
      "source": [
        "# Graph Algorithms\n",
        "\n",
        "## Depth First Search\n",
        "\n",
        "The **Depth First Search (DFS)** is the most fundamental search algorithm\n",
        "used to explore nodes and edges of a graph. It runs with a time complexity\n",
        "of O(V+E) and is often used as a building block in other alorithms.\n",
        "\n",
        "By itself the DFS ins't all that useful, but when augmented to perform\n",
        "other tasks such as count connected components, determine connectivity,\n",
        "or find briges/articulation points then DFS really shines.\n",
        "\n",
        "As the name suggests, a DFS plunges depth first into a graph without regard\n",
        "for which edge it takes next until it cannot go any further at which point it backtracks and continues.\n"
      ],
      "metadata": {
        "id": "-Wu2tP0P2Mgt"
      }
    },
    {
      "cell_type": "code",
      "execution_count": 1,
      "metadata": {
        "id": "7AxJ1EwcHiLw",
        "colab": {
          "base_uri": "https://localhost:8080/"
        },
        "outputId": "7b4de1d2-679f-4278-bbf2-53fedb37746d"
      },
      "outputs": [
        {
          "output_type": "stream",
          "name": "stdout",
          "text": [
            "{'F', 'A', 'E', 'C', 'D', 'B'}\n"
          ]
        }
      ],
      "source": [
        "def dfs(graph, start):\n",
        "  visited = set()\n",
        "  stack = [start]\n",
        "\n",
        "  while stack:\n",
        "    vertex = stack.pop()\n",
        "    if vertex not in visited:\n",
        "      visited.add(vertex)\n",
        "      for neighbor in graph[vertex]:\n",
        "        stack.append(neighbor)\n",
        "\n",
        "  return visited\n",
        "\n",
        "graph = {\n",
        "  'A': ['B', 'C'],\n",
        "  'B': ['D', 'E'],\n",
        "  'C': ['F'],\n",
        "  'D': [],\n",
        "  'E': ['F'],\n",
        "  'F': []\n",
        "}\n",
        "\n",
        "print(dfs(graph, 'A'))\n"
      ]
    },
    {
      "cell_type": "markdown",
      "source": [
        "## What else we can do using DFS?\n",
        "\n",
        "- Compute a graph's minimum spanning tree\n",
        "- Detect and find cycles in a graph\n",
        "- Check if a graph is bipartite\n",
        "- Find strongly connected components\n",
        "- Find bridges and articulation points\n",
        "- Find augmenting paths in a network flow\n",
        "- Generate mazes\n"
      ],
      "metadata": {
        "id": "LOzoYdI29esT"
      }
    }
  ]
}